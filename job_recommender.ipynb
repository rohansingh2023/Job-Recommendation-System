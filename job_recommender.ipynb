{
 "cells": [
  {
   "cell_type": "code",
   "execution_count": 9,
   "id": "6bef3581",
   "metadata": {},
   "outputs": [],
   "source": [
    "import numpy as np\n",
    "import pandas as pd\n",
    "import pickle\n",
    "from sklearn.feature_extraction.text import TfidfVectorizer\n",
    "from sklearn.metrics.pairwise import sigmoid_kernel"
   ]
  },
  {
   "cell_type": "code",
   "execution_count": 2,
   "id": "dc105de0",
   "metadata": {},
   "outputs": [],
   "source": [
    "df = pd.read_csv('tech_jobs.csv')"
   ]
  },
  {
   "cell_type": "code",
   "execution_count": 3,
   "id": "2b2ee35c",
   "metadata": {},
   "outputs": [
    {
     "name": "stdout",
     "output_type": "stream",
     "text": [
      "<class 'pandas.core.frame.DataFrame'>\n",
      "RangeIndex: 22000 entries, 0 to 21999\n",
      "Data columns (total 12 columns):\n",
      " #   Column                    Non-Null Count  Dtype \n",
      "---  ------                    --------------  ----- \n",
      " 0   advertiserurl             22000 non-null  object\n",
      " 1   company                   21950 non-null  object\n",
      " 2   employmenttype_jobstatus  21770 non-null  object\n",
      " 3   jobdescription            22000 non-null  object\n",
      " 4   jobid                     22000 non-null  object\n",
      " 5   joblocation_address       21997 non-null  object\n",
      " 6   jobtitle                  22000 non-null  object\n",
      " 7   postdate                  22000 non-null  object\n",
      " 8   shift                     21643 non-null  object\n",
      " 9   site_name                 3490 non-null   object\n",
      " 10  skills                    21957 non-null  object\n",
      " 11  uniq_id                   22000 non-null  object\n",
      "dtypes: object(12)\n",
      "memory usage: 2.0+ MB\n"
     ]
    }
   ],
   "source": [
    "df.info()"
   ]
  },
  {
   "cell_type": "code",
   "execution_count": 4,
   "id": "b08b48cc",
   "metadata": {},
   "outputs": [
    {
     "data": {
      "text/plain": [
       "advertiserurl                   0\n",
       "company                        50\n",
       "employmenttype_jobstatus      230\n",
       "jobdescription                  0\n",
       "jobid                           0\n",
       "joblocation_address             3\n",
       "jobtitle                        0\n",
       "postdate                        0\n",
       "shift                         357\n",
       "site_name                   18510\n",
       "skills                         43\n",
       "uniq_id                         0\n",
       "dtype: int64"
      ]
     },
     "execution_count": 4,
     "metadata": {},
     "output_type": "execute_result"
    }
   ],
   "source": [
    "df.isna().sum()"
   ]
  },
  {
   "cell_type": "code",
   "execution_count": 5,
   "id": "0894cde3",
   "metadata": {},
   "outputs": [],
   "source": [
    "df.dropna(inplace=True)"
   ]
  },
  {
   "cell_type": "code",
   "execution_count": 6,
   "id": "d45a4598",
   "metadata": {},
   "outputs": [
    {
     "data": {
      "text/plain": [
       "advertiserurl               0\n",
       "company                     0\n",
       "employmenttype_jobstatus    0\n",
       "jobdescription              0\n",
       "jobid                       0\n",
       "joblocation_address         0\n",
       "jobtitle                    0\n",
       "postdate                    0\n",
       "shift                       0\n",
       "site_name                   0\n",
       "skills                      0\n",
       "uniq_id                     0\n",
       "dtype: int64"
      ]
     },
     "execution_count": 6,
     "metadata": {},
     "output_type": "execute_result"
    }
   ],
   "source": [
    "df.isna().sum()"
   ]
  },
  {
   "cell_type": "code",
   "execution_count": 7,
   "id": "7ff9cc69",
   "metadata": {},
   "outputs": [
    {
     "data": {
      "text/plain": [
       "96     Responsible for managing one or more highly co...\n",
       "97     Job Description: Seeking a Business Process An...\n",
       "98     TAD PGS, INC. is currently seeking a DHMSM Ope...\n",
       "99     Our client, one of the world's leading profess...\n",
       "100    Our client, one of the largest banking and fin...\n",
       "Name: jobdescription, dtype: object"
      ]
     },
     "execution_count": 7,
     "metadata": {},
     "output_type": "execute_result"
    }
   ],
   "source": [
    "df['jobdescription'].head()"
   ]
  },
  {
   "cell_type": "code",
   "execution_count": 10,
   "id": "238832b9",
   "metadata": {},
   "outputs": [
    {
     "data": {
      "text/plain": [
       "(3417, 34365)"
      ]
     },
     "execution_count": 10,
     "metadata": {},
     "output_type": "execute_result"
    }
   ],
   "source": [
    "tfidf = TfidfVectorizer()\n",
    "df['jobdescription'] = df['jobdescription'].fillna('')\n",
    "tfidf_matrix = tfidf.fit_transform(df['jobdescription'])\n",
    "tfidf_matrix.shape"
   ]
  },
  {
   "cell_type": "code",
   "execution_count": 11,
   "id": "721de61e",
   "metadata": {},
   "outputs": [],
   "source": [
    "cosine_sim = sigmoid_kernel(tfidf_matrix, tfidf_matrix)\n",
    "indices = pd.Series(df.index, index= df['jobtitle']).drop_duplicates()"
   ]
  },
  {
   "cell_type": "code",
   "execution_count": 12,
   "id": "a375ae7d",
   "metadata": {},
   "outputs": [],
   "source": [
    "def get_recommendation(title, cosine_sim=cosine_sim):\n",
    "    idx = indices[title]\n",
    "    sim_scores = list(enumerate(cosine_sim[idx]))\n",
    "    sim_scores = sorted(sim_scores, key=lambda x: x[1], reverse=True)\n",
    "    sim_scores = sim_scores[1:10]\n",
    "    tech_indices = [i[0] for i in sim_scores]\n",
    "    return df['jobtitle'].iloc[tech_indices]"
   ]
  },
  {
   "cell_type": "code",
   "execution_count": 17,
   "id": "31ae3b49",
   "metadata": {},
   "outputs": [
    {
     "ename": "ValueError",
     "evalue": "The truth value of an array with more than one element is ambiguous. Use a.any() or a.all()",
     "output_type": "error",
     "traceback": [
      "\u001b[1;31m---------------------------------------------------------------------------\u001b[0m",
      "\u001b[1;31mValueError\u001b[0m                                Traceback (most recent call last)",
      "\u001b[1;32m~\\AppData\\Local\\Temp/ipykernel_18020/1853313026.py\u001b[0m in \u001b[0;36m<module>\u001b[1;34m\u001b[0m\n\u001b[1;32m----> 1\u001b[1;33m \u001b[0mget_recommendation\u001b[0m\u001b[1;33m(\u001b[0m\u001b[1;34m'Information Security Engineer'\u001b[0m\u001b[1;33m)\u001b[0m\u001b[1;33m\u001b[0m\u001b[1;33m\u001b[0m\u001b[0m\n\u001b[0m",
      "\u001b[1;32m~\\AppData\\Local\\Temp/ipykernel_18020/832423291.py\u001b[0m in \u001b[0;36mget_recommendation\u001b[1;34m(title, cosine_sim)\u001b[0m\n\u001b[0;32m      2\u001b[0m     \u001b[0midx\u001b[0m \u001b[1;33m=\u001b[0m \u001b[0mindices\u001b[0m\u001b[1;33m[\u001b[0m\u001b[0mtitle\u001b[0m\u001b[1;33m]\u001b[0m\u001b[1;33m\u001b[0m\u001b[1;33m\u001b[0m\u001b[0m\n\u001b[0;32m      3\u001b[0m     \u001b[0msim_scores\u001b[0m \u001b[1;33m=\u001b[0m \u001b[0mlist\u001b[0m\u001b[1;33m(\u001b[0m\u001b[0menumerate\u001b[0m\u001b[1;33m(\u001b[0m\u001b[0mcosine_sim\u001b[0m\u001b[1;33m[\u001b[0m\u001b[0midx\u001b[0m\u001b[1;33m]\u001b[0m\u001b[1;33m)\u001b[0m\u001b[1;33m)\u001b[0m\u001b[1;33m\u001b[0m\u001b[1;33m\u001b[0m\u001b[0m\n\u001b[1;32m----> 4\u001b[1;33m     \u001b[0msim_scores\u001b[0m \u001b[1;33m=\u001b[0m \u001b[0msorted\u001b[0m\u001b[1;33m(\u001b[0m\u001b[0msim_scores\u001b[0m\u001b[1;33m,\u001b[0m \u001b[0mkey\u001b[0m\u001b[1;33m=\u001b[0m\u001b[1;32mlambda\u001b[0m \u001b[0mx\u001b[0m\u001b[1;33m:\u001b[0m \u001b[0mx\u001b[0m\u001b[1;33m[\u001b[0m\u001b[1;36m1\u001b[0m\u001b[1;33m]\u001b[0m\u001b[1;33m,\u001b[0m \u001b[0mreverse\u001b[0m\u001b[1;33m=\u001b[0m\u001b[1;32mTrue\u001b[0m\u001b[1;33m)\u001b[0m\u001b[1;33m\u001b[0m\u001b[1;33m\u001b[0m\u001b[0m\n\u001b[0m\u001b[0;32m      5\u001b[0m     \u001b[0msim_scores\u001b[0m \u001b[1;33m=\u001b[0m \u001b[0msim_scores\u001b[0m\u001b[1;33m[\u001b[0m\u001b[1;36m1\u001b[0m\u001b[1;33m:\u001b[0m\u001b[1;36m10\u001b[0m\u001b[1;33m]\u001b[0m\u001b[1;33m\u001b[0m\u001b[1;33m\u001b[0m\u001b[0m\n\u001b[0;32m      6\u001b[0m     \u001b[0mtech_indices\u001b[0m \u001b[1;33m=\u001b[0m \u001b[1;33m[\u001b[0m\u001b[0mi\u001b[0m\u001b[1;33m[\u001b[0m\u001b[1;36m0\u001b[0m\u001b[1;33m]\u001b[0m \u001b[1;32mfor\u001b[0m \u001b[0mi\u001b[0m \u001b[1;32min\u001b[0m \u001b[0msim_scores\u001b[0m\u001b[1;33m]\u001b[0m\u001b[1;33m\u001b[0m\u001b[1;33m\u001b[0m\u001b[0m\n",
      "\u001b[1;31mValueError\u001b[0m: The truth value of an array with more than one element is ambiguous. Use a.any() or a.all()"
     ]
    }
   ],
   "source": [
    "get_recommendation('Information Security Engineer')"
   ]
  },
  {
   "cell_type": "code",
   "execution_count": 13,
   "id": "8a5066ec",
   "metadata": {},
   "outputs": [],
   "source": [
    "new_df = df[['jobtitle', 'jobdescription']]"
   ]
  },
  {
   "cell_type": "code",
   "execution_count": 14,
   "id": "f2fdbc06",
   "metadata": {},
   "outputs": [],
   "source": [
    "new_df.to_csv('new_tech_jobs.csv')"
   ]
  },
  {
   "cell_type": "code",
   "execution_count": 16,
   "id": "e2217b99",
   "metadata": {},
   "outputs": [],
   "source": [
    "pickle.dump(new_df,open('job_list.pkl','wb'))\n",
    "pickle.dump(cosine_sim,open('similarity_new.pkl','wb'))"
   ]
  },
  {
   "cell_type": "code",
   "execution_count": null,
   "id": "a755b403",
   "metadata": {},
   "outputs": [],
   "source": []
  }
 ],
 "metadata": {
  "kernelspec": {
   "display_name": "Python 3 (ipykernel)",
   "language": "python",
   "name": "python3"
  },
  "language_info": {
   "codemirror_mode": {
    "name": "ipython",
    "version": 3
   },
   "file_extension": ".py",
   "mimetype": "text/x-python",
   "name": "python",
   "nbconvert_exporter": "python",
   "pygments_lexer": "ipython3",
   "version": "3.9.18"
  }
 },
 "nbformat": 4,
 "nbformat_minor": 5
}
